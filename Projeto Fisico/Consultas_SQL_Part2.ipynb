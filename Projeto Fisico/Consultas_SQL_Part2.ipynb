{
 "cells": [
  {
   "cell_type": "markdown",
   "metadata": {},
   "source": [
    "## Importando pacote"
   ]
  },
  {
   "cell_type": "code",
   "execution_count": 2,
   "metadata": {},
   "outputs": [],
   "source": [
    "import cx_Oracle"
   ]
  },
  {
   "cell_type": "markdown",
   "metadata": {},
   "source": [
    "## Estabelecendo Conexao"
   ]
  },
  {
   "cell_type": "code",
   "execution_count": 3,
   "metadata": {},
   "outputs": [],
   "source": [
    "userName = \"system\"\n",
    "password = \"5415613\"\n",
    "db = \"xe\"\n",
    "try:\n",
    "    connection = cx_Oracle.connect(userName+\"/\"+password+\"@\"+db)\n",
    "    #connection.close()\n",
    "except cx_Oracle.Error as e:\n",
    "    print(\"Algo deu errado\")\n",
    "    print(e)"
   ]
  },
  {
   "cell_type": "markdown",
   "metadata": {},
   "source": [
    "## Criando Tabelas"
   ]
  },
  {
   "cell_type": "code",
   "execution_count": 11,
   "metadata": {},
   "outputs": [],
   "source": [
    "cursor = connection.cursor()\n",
    "\n",
    "querie = '''\n",
    "    CREATE TABLE eleitor (\n",
    "        titulo_de_eleitor NUMBER(5) PRIMARY KEY,\n",
    "        nome VARCHAR(20) NOT NULL,\n",
    "        endereco VARCHAR(30) NOT NULL\n",
    "    )\n",
    "'''\n",
    "\n",
    "cursor.execute(querie)\n",
    "connection.commit()\n",
    "cursor.close()"
   ]
  },
  {
   "cell_type": "markdown",
   "metadata": {},
   "source": [
    "## Inserindo Dados"
   ]
  },
  {
   "cell_type": "code",
   "execution_count": 13,
   "metadata": {},
   "outputs": [],
   "source": [
    "cursor = connection.cursor()\n",
    "querie = '''\n",
    "    INSERT INTO eleitor VALUES (11998, 'Emanoel Rafael', 'Recife-PE')\n",
    "'''\n",
    "cursor.execute(querie)\n",
    "connection.commit()\n",
    "cursor.close()"
   ]
  },
  {
   "cell_type": "markdown",
   "metadata": {},
   "source": [
    "## Consultando Dados"
   ]
  },
  {
   "cell_type": "code",
   "execution_count": 13,
   "metadata": {},
   "outputs": [
    {
     "name": "stdout",
     "output_type": "stream",
     "text": [
      "('147852369789', '80136955819', '2022-10-04')\n",
      "('321654987987', '53485723738', '1994-10-04')\n",
      "('321321321321', '95307699034', '1990-10-04')\n",
      "('147852258741', '10793297222', '2020-10-04')\n",
      "('357357357357', '83714792988', '2018-10-04')\n",
      "('369369369369', '53485723738', '1998-10-04')\n",
      "('852546951753', '92544443910', '2004-10-04')\n",
      "('258789987852', '37379326627', '2000-10-04')\n",
      "('159159159159', '71019001194', '1994-10-04')\n",
      "('987456321147', '35120996531', '1968-10-04')\n"
     ]
    }
   ],
   "source": [
    "cursor = connection.cursor()\n",
    "tabela = input(\"Digite o nome da tabela:\\n\")\n",
    "querie = '''\n",
    "    SELECT * FROM {}\n",
    "'''.format(tabela.upper())\n",
    "ret = cursor.execute(querie)\n",
    "\n",
    "for c in ret:\n",
    "    print(c)\n",
    "\n",
    "connection.commit()\n",
    "cursor.close()"
   ]
  }
 ],
 "metadata": {
  "interpreter": {
   "hash": "083ecc98362e39a05e4d784f605f5140945b39f6c1e2d2cc02950c86ed736e3a"
  },
  "kernelspec": {
   "display_name": "Python 3.10.2 64-bit",
   "language": "python",
   "name": "python3"
  },
  "language_info": {
   "codemirror_mode": {
    "name": "ipython",
    "version": 3
   },
   "file_extension": ".py",
   "mimetype": "text/x-python",
   "name": "python",
   "nbconvert_exporter": "python",
   "pygments_lexer": "ipython3",
   "version": "3.10.2"
  },
  "orig_nbformat": 4
 },
 "nbformat": 4,
 "nbformat_minor": 2
}
